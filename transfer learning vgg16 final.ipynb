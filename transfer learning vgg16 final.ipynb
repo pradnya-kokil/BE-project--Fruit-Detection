{
 "cells": [
  {
   "cell_type": "markdown",
   "id": "6133e815",
   "metadata": {},
   "source": [
    "# Making Fruit classifier with VGG16"
   ]
  },
  {
   "cell_type": "markdown",
   "id": "ea032574",
   "metadata": {},
   "source": [
    "# Loading VGG16 model"
   ]
  },
  {
   "cell_type": "code",
   "execution_count": 1,
   "id": "23884a7e",
   "metadata": {},
   "outputs": [],
   "source": [
    "from keras.applications import vgg16\n",
    "\n",
    "img_rows = 100\n",
    "img_cols = 100 \n",
    "\n",
    "model =   vgg16.VGG16(weights = 'imagenet', \n",
    "                     include_top = False, \n",
    "                     input_shape = (img_rows, img_cols, 3))"
   ]
  },
  {
   "cell_type": "markdown",
   "id": "5c85e285",
   "metadata": {},
   "source": [
    "# Inspecting each layer"
   ]
  },
  {
   "cell_type": "code",
   "execution_count": 2,
   "id": "b0c70262",
   "metadata": {},
   "outputs": [
    {
     "name": "stdout",
     "output_type": "stream",
     "text": [
      "0 InputLayer True\n",
      "1 Conv2D True\n",
      "2 Conv2D True\n",
      "3 MaxPooling2D True\n",
      "4 Conv2D True\n",
      "5 Conv2D True\n",
      "6 MaxPooling2D True\n",
      "7 Conv2D True\n",
      "8 Conv2D True\n",
      "9 Conv2D True\n",
      "10 MaxPooling2D True\n",
      "11 Conv2D True\n",
      "12 Conv2D True\n",
      "13 Conv2D True\n",
      "14 MaxPooling2D True\n",
      "15 Conv2D True\n",
      "16 Conv2D True\n",
      "17 Conv2D True\n",
      "18 MaxPooling2D True\n"
     ]
    }
   ],
   "source": [
    "for (i,layer) in enumerate(model.layers):\n",
    "    print(str(i) + \" \"+ layer.__class__.__name__, layer.trainable)"
   ]
  },
  {
   "cell_type": "markdown",
   "id": "8274496c",
   "metadata": {},
   "source": [
    "# Freezing all layers except the top 4"
   ]
  },
  {
   "cell_type": "code",
   "execution_count": 3,
   "id": "115aa8b7",
   "metadata": {},
   "outputs": [
    {
     "name": "stdout",
     "output_type": "stream",
     "text": [
      "0 InputLayer False\n",
      "1 Conv2D False\n",
      "2 Conv2D False\n",
      "3 MaxPooling2D False\n",
      "4 Conv2D False\n",
      "5 Conv2D False\n",
      "6 MaxPooling2D False\n",
      "7 Conv2D False\n",
      "8 Conv2D False\n",
      "9 Conv2D False\n",
      "10 MaxPooling2D False\n",
      "11 Conv2D False\n",
      "12 Conv2D False\n",
      "13 Conv2D False\n",
      "14 MaxPooling2D False\n",
      "15 Conv2D False\n",
      "16 Conv2D False\n",
      "17 Conv2D False\n",
      "18 MaxPooling2D False\n"
     ]
    }
   ],
   "source": [
    "for layer in model.layers:\n",
    "    layer.trainable = False\n",
    " \n",
    "for (i,layer) in enumerate(model.layers):\n",
    "    print(str(i) + \" \"+ layer.__class__.__name__, layer.trainable)"
   ]
  },
  {
   "cell_type": "markdown",
   "id": "352b94af",
   "metadata": {},
   "source": [
    "# Making a function that returns our FC head/top"
   ]
  },
  {
   "cell_type": "code",
   "execution_count": 4,
   "id": "aa53d223",
   "metadata": {},
   "outputs": [],
   "source": [
    "def addTopModel(bottom_model, num_classes, D=256):\n",
    "    \"\"\"creates the top or head of the model that will be \n",
    "    placed ontop of the bottom layers\"\"\"\n",
    "    top_model = bottom_model.output\n",
    "    top_model = Flatten(name = \"flatten\")(top_model)\n",
    "    top_model = Dense(D, activation = \"relu\")(top_model)\n",
    "    top_model = Dropout(0.3)(top_model)\n",
    "    top_model = Dense(num_classes, activation = \"softmax\")(top_model)\n",
    "    return top_model"
   ]
  },
  {
   "cell_type": "markdown",
   "id": "32bbb8d8",
   "metadata": {},
   "source": [
    "# Adding our FC head back onto VGG"
   ]
  },
  {
   "cell_type": "code",
   "execution_count": 5,
   "id": "dede3e0e",
   "metadata": {},
   "outputs": [
    {
     "name": "stdout",
     "output_type": "stream",
     "text": [
      "Model: \"model\"\n",
      "_________________________________________________________________\n",
      " Layer (type)                Output Shape              Param #   \n",
      "=================================================================\n",
      " input_1 (InputLayer)        [(None, 100, 100, 3)]     0         \n",
      "                                                                 \n",
      " block1_conv1 (Conv2D)       (None, 100, 100, 64)      1792      \n",
      "                                                                 \n",
      " block1_conv2 (Conv2D)       (None, 100, 100, 64)      36928     \n",
      "                                                                 \n",
      " block1_pool (MaxPooling2D)  (None, 50, 50, 64)        0         \n",
      "                                                                 \n",
      " block2_conv1 (Conv2D)       (None, 50, 50, 128)       73856     \n",
      "                                                                 \n",
      " block2_conv2 (Conv2D)       (None, 50, 50, 128)       147584    \n",
      "                                                                 \n",
      " block2_pool (MaxPooling2D)  (None, 25, 25, 128)       0         \n",
      "                                                                 \n",
      " block3_conv1 (Conv2D)       (None, 25, 25, 256)       295168    \n",
      "                                                                 \n",
      " block3_conv2 (Conv2D)       (None, 25, 25, 256)       590080    \n",
      "                                                                 \n",
      " block3_conv3 (Conv2D)       (None, 25, 25, 256)       590080    \n",
      "                                                                 \n",
      " block3_pool (MaxPooling2D)  (None, 12, 12, 256)       0         \n",
      "                                                                 \n",
      " block4_conv1 (Conv2D)       (None, 12, 12, 512)       1180160   \n",
      "                                                                 \n",
      " block4_conv2 (Conv2D)       (None, 12, 12, 512)       2359808   \n",
      "                                                                 \n",
      " block4_conv3 (Conv2D)       (None, 12, 12, 512)       2359808   \n",
      "                                                                 \n",
      " block4_pool (MaxPooling2D)  (None, 6, 6, 512)         0         \n",
      "                                                                 \n",
      " block5_conv1 (Conv2D)       (None, 6, 6, 512)         2359808   \n",
      "                                                                 \n",
      " block5_conv2 (Conv2D)       (None, 6, 6, 512)         2359808   \n",
      "                                                                 \n",
      " block5_conv3 (Conv2D)       (None, 6, 6, 512)         2359808   \n",
      "                                                                 \n",
      " block5_pool (MaxPooling2D)  (None, 3, 3, 512)         0         \n",
      "                                                                 \n",
      " flatten (Flatten)           (None, 4608)              0         \n",
      "                                                                 \n",
      " dense (Dense)               (None, 256)               1179904   \n",
      "                                                                 \n",
      " dropout (Dropout)           (None, 256)               0         \n",
      "                                                                 \n",
      " dense_1 (Dense)             (None, 131)               33667     \n",
      "                                                                 \n",
      "=================================================================\n",
      "Total params: 15,928,259\n",
      "Trainable params: 1,213,571\n",
      "Non-trainable params: 14,714,688\n",
      "_________________________________________________________________\n",
      "None\n"
     ]
    }
   ],
   "source": [
    "from keras.models import Sequential\n",
    "from keras.layers import Dense, Dropout, Activation, Flatten\n",
    "from keras.layers import Conv2D, MaxPooling2D, ZeroPadding2D\n",
    "#from keras.layers.normalization import BatchNormalization\n",
    "from keras.models import Model\n",
    "\n",
    "num_classes = 131\n",
    "\n",
    "FC_Head = addTopModel(model, num_classes)\n",
    "\n",
    "modelnew = Model(inputs=model.input, outputs=FC_Head)\n",
    "\n",
    "print(modelnew.summary())"
   ]
  },
  {
   "cell_type": "markdown",
   "id": "fdd8c5ca",
   "metadata": {},
   "source": [
    "# Loading our fruits dataset"
   ]
  },
  {
   "cell_type": "code",
   "execution_count": 6,
   "id": "7323affd",
   "metadata": {},
   "outputs": [
    {
     "name": "stdout",
     "output_type": "stream",
     "text": [
      "Found 67692 images belonging to 131 classes.\n",
      "Found 22688 images belonging to 131 classes.\n"
     ]
    }
   ],
   "source": [
    "from keras.preprocessing.image import ImageDataGenerator\n",
    "\n",
    "train_data_dir = 'fruits-360_dataset/fruits-360/Training'\n",
    "validation_data_dir = 'fruits-360_dataset/fruits-360/Test'\n",
    "\n",
    "train_datagen = ImageDataGenerator(\n",
    "      rescale=1./255,\n",
    "      rotation_range=20,\n",
    "      width_shift_range=0.2,\n",
    "      height_shift_range=0.2,\n",
    "      horizontal_flip=True,\n",
    "      fill_mode='nearest')\n",
    " \n",
    "validation_datagen = ImageDataGenerator(rescale=1./255)\n",
    " \n",
    "train_batchsize = 16\n",
    "val_batchsize = 10\n",
    " \n",
    "train_generator = train_datagen.flow_from_directory(\n",
    "        train_data_dir,\n",
    "        target_size=(img_rows, img_cols),\n",
    "        batch_size=train_batchsize,\n",
    "        class_mode='categorical')\n",
    " \n",
    "validation_generator = validation_datagen.flow_from_directory(\n",
    "        validation_data_dir,\n",
    "        target_size=(img_rows, img_cols),\n",
    "        batch_size=val_batchsize,\n",
    "        class_mode='categorical',\n",
    "        shuffle=False)"
   ]
  },
  {
   "cell_type": "markdown",
   "id": "0700f97e",
   "metadata": {},
   "source": [
    "# Training our top layers"
   ]
  },
  {
   "cell_type": "code",
   "execution_count": 7,
   "id": "9498991b",
   "metadata": {},
   "outputs": [
    {
     "name": "stderr",
     "output_type": "stream",
     "text": [
      "<ipython-input-7-50c24733b27d>:10: UserWarning: `Model.fit_generator` is deprecated and will be removed in a future version. Please use `Model.fit`, which supports generators.\n",
      "  history = modelnew.fit_generator(\n"
     ]
    },
    {
     "name": "stdout",
     "output_type": "stream",
     "text": [
      "Epoch 1/20\n",
      "4230/4230 [==============================] - 7295s 2s/step - loss: 1.5138 - accuracy: 0.5923 - val_loss: 0.6407 - val_accuracy: 0.8396\n",
      "Epoch 2/20\n",
      "4230/4230 [==============================] - 5084s 1s/step - loss: 0.6325 - accuracy: 0.8006 - val_loss: 0.4891 - val_accuracy: 0.8839\n",
      "Epoch 3/20\n",
      "4230/4230 [==============================] - 5133s 1s/step - loss: 0.5032 - accuracy: 0.8375 - val_loss: 0.3970 - val_accuracy: 0.9073\n",
      "Epoch 4/20\n",
      "4230/4230 [==============================] - 6473s 2s/step - loss: 0.4499 - accuracy: 0.8544 - val_loss: 0.3867 - val_accuracy: 0.9130\n",
      "Epoch 5/20\n",
      "4230/4230 [==============================] - 5157s 1s/step - loss: 0.4108 - accuracy: 0.8662 - val_loss: 0.4603 - val_accuracy: 0.8947\n",
      "Epoch 6/20\n",
      "4230/4230 [==============================] - 5102s 1s/step - loss: 0.3986 - accuracy: 0.8710 - val_loss: 0.4072 - val_accuracy: 0.9140\n",
      "Epoch 7/20\n",
      "4230/4230 [==============================] - 5171s 1s/step - loss: 0.3796 - accuracy: 0.8766 - val_loss: 0.4929 - val_accuracy: 0.8978\n",
      "Epoch 8/20\n",
      "4230/4230 [==============================] - 9311s 2s/step - loss: 0.3564 - accuracy: 0.8847 - val_loss: 0.3764 - val_accuracy: 0.9233\n",
      "Epoch 9/20\n",
      "4230/4230 [==============================] - 5223s 1s/step - loss: 0.3536 - accuracy: 0.8859 - val_loss: 0.3963 - val_accuracy: 0.9247\n",
      "Epoch 10/20\n",
      "4230/4230 [==============================] - 5142s 1s/step - loss: 0.3424 - accuracy: 0.8905 - val_loss: 0.4287 - val_accuracy: 0.9177\n",
      "Epoch 11/20\n",
      "4230/4230 [==============================] - 5166s 1s/step - loss: 0.3318 - accuracy: 0.8940 - val_loss: 0.4430 - val_accuracy: 0.9202\n",
      "Epoch 12/20\n",
      "4230/4230 [==============================] - 5129s 1s/step - loss: 0.3248 - accuracy: 0.8968 - val_loss: 0.4089 - val_accuracy: 0.9272\n",
      "Epoch 13/20\n",
      "4230/4230 [==============================] - 5183s 1s/step - loss: 0.3285 - accuracy: 0.8959 - val_loss: 0.4665 - val_accuracy: 0.9209\n",
      "Epoch 14/20\n",
      "4230/4230 [==============================] - 5160s 1s/step - loss: 0.3193 - accuracy: 0.8976 - val_loss: 0.4995 - val_accuracy: 0.9187\n",
      "Epoch 15/20\n",
      "4230/4230 [==============================] - 5158s 1s/step - loss: 0.3152 - accuracy: 0.9016 - val_loss: 0.4719 - val_accuracy: 0.9189\n",
      "Epoch 16/20\n",
      "4230/4230 [==============================] - 5164s 1s/step - loss: 0.3108 - accuracy: 0.9022 - val_loss: 0.4453 - val_accuracy: 0.9294\n",
      "Epoch 17/20\n",
      "4230/4230 [==============================] - 5120s 1s/step - loss: 0.3102 - accuracy: 0.9041 - val_loss: 0.4483 - val_accuracy: 0.9322\n",
      "Epoch 18/20\n",
      "4230/4230 [==============================] - 5134s 1s/step - loss: 0.3060 - accuracy: 0.9049 - val_loss: 0.4762 - val_accuracy: 0.9272\n",
      "Epoch 19/20\n",
      "4230/4230 [==============================] - 5179s 1s/step - loss: 0.3025 - accuracy: 0.9070 - val_loss: 0.4398 - val_accuracy: 0.9358\n",
      "Epoch 20/20\n",
      "4230/4230 [==============================] - 5101s 1s/step - loss: 0.2970 - accuracy: 0.9097 - val_loss: 0.5057 - val_accuracy: 0.9350\n"
     ]
    }
   ],
   "source": [
    "\n",
    "\n",
    "modelnew.compile(loss = 'categorical_crossentropy',\n",
    "              optimizer =  \"adam\"  ,\n",
    "              metrics = ['accuracy'])\n",
    "\n",
    "nb_train_samples = 67692\n",
    "nb_validation_samples = 22688\n",
    "epochs = 20\n",
    "batch_size = 16\n",
    "\n",
    "history = modelnew.fit_generator(\n",
    "    train_generator,\n",
    "    steps_per_epoch = nb_train_samples // batch_size,\n",
    "    epochs = epochs,\n",
    "    #callbacks = callbacks,\n",
    "    validation_data = validation_generator,\n",
    "    validation_steps = nb_validation_samples // batch_size)\n",
    "\n",
    "modelnew.save(\"tlfinal.h5\")"
   ]
  },
  {
   "cell_type": "code",
   "execution_count": null,
   "id": "119e7bb1",
   "metadata": {},
   "outputs": [],
   "source": []
  },
  {
   "cell_type": "code",
   "execution_count": null,
   "id": "edcc7e3e",
   "metadata": {},
   "outputs": [],
   "source": []
  }
 ],
 "metadata": {
  "kernelspec": {
   "display_name": "Python 3",
   "language": "python",
   "name": "python3"
  },
  "language_info": {
   "codemirror_mode": {
    "name": "ipython",
    "version": 3
   },
   "file_extension": ".py",
   "mimetype": "text/x-python",
   "name": "python",
   "nbconvert_exporter": "python",
   "pygments_lexer": "ipython3",
   "version": "3.8.8"
  }
 },
 "nbformat": 4,
 "nbformat_minor": 5
}
